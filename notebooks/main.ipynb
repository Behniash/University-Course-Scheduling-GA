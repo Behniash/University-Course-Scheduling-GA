{
 "cells": [
  {
   "cell_type": "code",
   "execution_count": 1,
   "id": "63214d46",
   "metadata": {},
   "outputs": [
    {
     "name": "stdout",
     "output_type": "stream",
     "text": [
      " Data Loaded Successfully\n",
      " Total Courses: 20\n",
      " Total Professors: 10\n",
      " Total Class: 10\n"
     ]
    }
   ],
   "source": [
    "import json\n",
    "import random\n",
    "import pandas as pd\n",
    "import matplotlib.pyplot as plt\n",
    "from reportlab.pdfgen import canvas\n",
    "\n",
    "with open(\"../Data/courses.json\", \"r\") as f:\n",
    "    courses = json.load(f)\n",
    "\n",
    "with open(\"../Data/professors.json\", \"r\") as f:\n",
    "    professors = json.load(f)\n",
    "\n",
    "with open(\"../Data/classes.json\", \"r\") as f:\n",
    "    classes = json.load(f)\n",
    "\n",
    "print(\" Data Loaded Successfully\")\n",
    "print(f\" Total Courses: {len(courses)}\")\n",
    "print(f\" Total Professors: {len(professors)}\")\n",
    "print(f\" Total Class: {len(classes)}\")"
   ]
  },
  {
   "cell_type": "code",
   "execution_count": 2,
   "id": "dfae672f",
   "metadata": {},
   "outputs": [],
   "source": [
    "class GeneticAlgorithm:\n",
    "    def __init__(self, courses, professors, classrooms, population_size=100, generations=300, mutation_rate=0.1):\n",
    "        self.courses = courses\n",
    "        self.professors = professors\n",
    "        self.classrooms = classrooms\n",
    "        self.population_size = population_size\n",
    "        self.generations = generations\n",
    "        self.mutation_rate = mutation_rate\n",
    "\n",
    "    def initialize_population(self):\n",
    "        population = []\n",
    "        for _ in range(self.population_size):\n",
    "            chromosome = []\n",
    "            for course in self.courses:\n",
    "                time = random.choice(course['allowed_times'])\n",
    "                classroom = random.choice(self.classrooms)['code']\n",
    "                chromosome.append({'course_code': course['code'], 'time': time, 'classroom': classroom})\n",
    "            population.append(chromosome)\n",
    "        return population\n",
    "\n",
    "    def fitness(self, chromosome):\n",
    "        score = 0\n",
    "        used_slots = set()\n",
    "        for gene in chromosome:\n",
    "            slot = (gene['time'], gene['classroom'])\n",
    "            if slot not in used_slots:\n",
    "                used_slots.add(slot)\n",
    "                score += 1\n",
    "        return score\n",
    "\n",
    "    def selection(self, population):\n",
    "        population.sort(key=lambda x: self.fitness(x), reverse=True)\n",
    "        return population[:self.population_size // 2]\n",
    "\n",
    "    def crossover(self, parent1, parent2):\n",
    "        point = random.randint(1, len(parent1) - 1)\n",
    "        child = parent1[:point] + parent2[point:]\n",
    "        return child\n",
    "\n",
    "    def mutate(self, chromosome):\n",
    "        for gene in chromosome:\n",
    "            if random.random() < self.mutation_rate:\n",
    "                gene['time'] = random.choice(\n",
    "                    next(c for c in self.courses if c['code'] == gene['course_code'])['allowed_times'])\n",
    "        return chromosome\n",
    "\n",
    "    def run(self):\n",
    "        population = self.initialize_population()\n",
    "        for _ in range(self.generations):\n",
    "            selected = self.selection(population)\n",
    "            next_generation = []\n",
    "            while len(next_generation) < self.population_size:\n",
    "                parent1, parent2 = random.sample(selected, 2)\n",
    "                child = self.crossover(parent1, parent2)\n",
    "                child = self.mutate(child)\n",
    "                next_generation.append(child)\n",
    "            population = next_generation\n",
    "        best_schedule = max(population, key=lambda x: self.fitness(x))\n",
    "        return best_schedule"
   ]
  },
  {
   "cell_type": "code",
   "execution_count": 7,
   "id": "ff08c2c9",
   "metadata": {},
   "outputs": [
    {
     "name": "stdout",
     "output_type": "stream",
     "text": [
      " Best Schedule Found:\n",
      "{'course_code': 'CSE101', 'time': 'Monday 8-10', 'classroom': 'CL107'}\n",
      "{'course_code': 'CSE102', 'time': 'Tuesday 12-14', 'classroom': 'CL104'}\n",
      "{'course_code': 'CSE103', 'time': 'Monday 14-16', 'classroom': 'CL102'}\n",
      "{'course_code': 'CSE104', 'time': 'Friday 10-12', 'classroom': 'CL109'}\n",
      "{'course_code': 'CSE105', 'time': 'Thursday 8-10', 'classroom': 'CL102'}\n",
      "{'course_code': 'CSE106', 'time': 'Monday 8-10', 'classroom': 'CL102'}\n",
      "{'course_code': 'CSE107', 'time': 'Thursday 12-14', 'classroom': 'CL102'}\n",
      "{'course_code': 'CSE108', 'time': 'Wednesday 14-16', 'classroom': 'CL101'}\n",
      "{'course_code': 'CSE109', 'time': 'Thursday 10-12', 'classroom': 'CL106'}\n",
      "{'course_code': 'CSE110', 'time': 'Friday 14-16', 'classroom': 'CL105'}\n",
      "{'course_code': 'CSE111', 'time': 'Monday 16-18', 'classroom': 'CL105'}\n",
      "{'course_code': 'CSE112', 'time': 'Friday 16-18', 'classroom': 'CL102'}\n",
      "{'course_code': 'CSE113', 'time': 'Friday 12-14', 'classroom': 'CL105'}\n",
      "{'course_code': 'CSE114', 'time': 'Monday 12-14', 'classroom': 'CL107'}\n",
      "{'course_code': 'CSE115', 'time': 'Tuesday 10-12', 'classroom': 'CL106'}\n",
      "{'course_code': 'CSE116', 'time': 'Friday 8-10', 'classroom': 'CL103'}\n",
      "{'course_code': 'CSE117', 'time': 'Monday 8-10', 'classroom': 'CL109'}\n",
      "{'course_code': 'CSE118', 'time': 'Tuesday 14-16', 'classroom': 'CL104'}\n",
      "{'course_code': 'CSE119', 'time': 'Wednesday 10-12', 'classroom': 'CL101'}\n",
      "{'course_code': 'CSE120', 'time': 'Friday 12-14', 'classroom': 'CL108'}\n"
     ]
    }
   ],
   "source": [
    "ga = GeneticAlgorithm(courses, professors, classes)\n",
    "best_schedule = ga.run()\n",
    "\n",
    "print(\" Best Schedule Found:\")\n",
    "for gene in best_schedule:\n",
    "    print(gene)\n"
   ]
  },
  {
   "cell_type": "code",
   "execution_count": 8,
   "id": "bb9d9f7f",
   "metadata": {},
   "outputs": [
    {
     "data": {
      "image/png": "[encoded data removed]",
      "text/plain": [
       "<Figure size 1000x600 with 1 Axes>"
      ]
     },
     "metadata": {},
     "output_type": "display_data"
    }
   ],
   "source": [
    "def plot_schedule(schedule):\n",
    "    fig, ax = plt.subplots(figsize=(10, 6))\n",
    "    y_labels = []\n",
    "    y_pos = []\n",
    "    for idx, gene in enumerate(schedule):\n",
    "        ax.barh(idx, 2, left=int(gene['time'].split()[1].split('-')[0]), color='skyblue')\n",
    "        y_labels.append(gene['course_code'])\n",
    "        y_pos.append(idx)\n",
    "    ax.set_yticks(y_pos)\n",
    "    ax.set_yticklabels(y_labels)\n",
    "    ax.set_xlabel('Time')\n",
    "    ax.set_title('University Timetable')\n",
    "    plt.show()\n",
    "\n",
    "plot_schedule(best_schedule)"
   ]
  },
  {
   "cell_type": "code",
   "execution_count": null,
   "id": "3aea3a43",
   "metadata": {},
   "outputs": [],
   "source": [
    "def export_to_pdf(schedule, filename=\"../outputs/timetable.pdf\"):\n",
    "    c = canvas.Canvas(filename)\n",
    "    y = 800\n",
    "    for gene in schedule:\n",
    "        c.drawString(50, y, f\"{gene['course_code']} at {gene['time']} in {gene['classroom']}\")\n",
    "        y -= 20\n",
    "    c.save()\n",
    "    print(f\" PDF exported: {filename}\")\n",
    "\n",
    "export_to_pdf(best_schedule)"
   ]
  }
 ],
 "metadata": {
  "kernelspec": {
   "display_name": "Python 3",
   "language": "python",
   "name": "python3"
  },
  "language_info": {
   "codemirror_mode": {
    "name": "ipython",
    "version": 3
   },
   "file_extension": ".py",
   "mimetype": "text/x-python",
   "name": "python",
   "nbconvert_exporter": "python",
   "pygments_lexer": "ipython3",
   "version": "3.11.4"
  }
 },
 "nbformat": 4,
 "nbformat_minor": 5
}
